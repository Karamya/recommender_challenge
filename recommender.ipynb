{
 "cells": [
  {
   "cell_type": "markdown",
   "metadata": {
    "deletable": true,
    "editable": true
   },
   "source": [
    "# Recommender System\n",
    "\n",
    "___\n",
    "**Challenges**\n",
    "    - Provide good user experience to every user\n",
    "    - Satisfy the business objectives\n",
    "    - Measure its impact\n",
    "    - Scaling\n",
    "    - Expired items\n",
    "    - Cold start - new users, new products\n",
    "    - Sparsity of user preference\n",
    "___    \n",
    "**Types of Recommenders**\n",
    "    - Content based\n",
    "        - using explicit features of the users and/or items\n",
    "    - Collaborative filtering\n",
    "        - implicit features\n",
    "        - based on observed interactions rather than metadata\n",
    "    - Hybrid\n",
    "___    \n",
    "    \n",
    "**Alternating Least Square(ALS) - Method of Choice**\n",
    "\n",
    "There are many techniques for generating recommendations, such as \n",
    "    - Matrix factorization\n",
    "    - co-occurrence analysis\n",
    "    - content based filtering\n",
    "    - graph based algorithms\n",
    "    - hybrids\n",
    "    \n",
    "In our case, my dataset mainly contains only implicit features. I choose ALS recommender, which is a widely popular matrix factorization algorithm that uses alternating least squares with weighted lambda regularization. It factors the user-to-item matrix into the user-to-feature matrix and the item-to-feature matrix. This recommendation was also successfully used in the Netflix competition. \n",
    "\n",
    "One of the big strengths of ALS based recommender, compared to the user or item based recommender, is its ability to handle large sparse data sets and its better prediction performance. It is best suited for our datasets.\n",
    "___"
   ]
  },
  {
   "cell_type": "code",
   "execution_count": 1,
   "metadata": {
    "ExecuteTime": {
     "end_time": "2017-03-27T19:05:01.374850Z",
     "start_time": "2017-03-27T21:05:01.208699+02:00"
    },
    "collapsed": false,
    "deletable": true,
    "editable": true
   },
   "outputs": [],
   "source": [
    "from pyspark import SparkContext\n",
    "from pyspark.mllib.recommendation import ALS, MatrixFactorizationModel, Rating\n",
    "from pyspark.mllib.linalg.distributed import CoordinateMatrix, MatrixEntry\n",
    "from pyspark.sql import Row, SQLContext\n",
    "from pyspark.sql.functions import lit, udf\n",
    "import pandas as pd\n",
    "import numpy as np"
   ]
  },
  {
   "cell_type": "markdown",
   "metadata": {
    "collapsed": true,
    "deletable": true,
    "editable": true
   },
   "source": [
    "___\n",
    "The data file contains the following 3 columns:\n",
    "    - timestamp\n",
    "    - user_id\n",
    "    - product_id\n",
    "I drop the timeaxis, which is not relevant for my model\n",
    "___"
   ]
  },
  {
   "cell_type": "code",
   "execution_count": 2,
   "metadata": {
    "ExecuteTime": {
     "end_time": "2017-03-27T19:05:04.547735Z",
     "start_time": "2017-03-27T21:05:03.669151+02:00"
    },
    "collapsed": false,
    "deletable": true,
    "editable": true
   },
   "outputs": [],
   "source": [
    "df = pd.read_csv(\"purchases.csv\", sep=\";\", names=[\"timestamp\", \"user_id\", \"product_id\"], header= None)\n",
    "df = df.drop(\"timestamp\", axis=1)"
   ]
  },
  {
   "cell_type": "markdown",
   "metadata": {
    "deletable": true,
    "editable": true
   },
   "source": [
    "___\n",
    "Here, I group users and the **unique products** that they have purchased (few users have purchased more than 1 item. In those cases, it is redundant and memory intensive to use those details)\n",
    "___"
   ]
  },
  {
   "cell_type": "code",
   "execution_count": 3,
   "metadata": {
    "ExecuteTime": {
     "end_time": "2017-03-27T19:05:32.916068Z",
     "start_time": "2017-03-27T21:05:05.602799+02:00"
    },
    "collapsed": true,
    "deletable": true,
    "editable": true
   },
   "outputs": [],
   "source": [
    "rawdata = df.groupby(\"user_id\").product_id.apply(set)"
   ]
  },
  {
   "cell_type": "markdown",
   "metadata": {
    "deletable": true,
    "editable": true
   },
   "source": [
    "___\n",
    "For the implementation of ALS using spark machine learning library, it is important that the input is integer. Strings such as product_ids cannot be used.\n",
    "\n",
    "So, it is necessary that the product_ids should be integer. For this purpose, I create a dictionary to assign an integer to a product_id and another dictionary to reconvert integer to their corresponding product_ids\n",
    "___"
   ]
  },
  {
   "cell_type": "code",
   "execution_count": 4,
   "metadata": {
    "ExecuteTime": {
     "end_time": "2017-03-27T19:05:41.034138Z",
     "start_time": "2017-03-27T21:05:40.771424+02:00"
    },
    "collapsed": true,
    "deletable": true,
    "editable": true
   },
   "outputs": [],
   "source": [
    "product_to_ix = {prod:i for i, prod in enumerate(df.product_id.unique())}\n",
    "ix_to_product = {i:prod for i, prod in enumerate(df.product_id.unique())}"
   ]
  },
  {
   "cell_type": "markdown",
   "metadata": {
    "deletable": true,
    "editable": true
   },
   "source": [
    "___\n",
    "Convert the pandas dataframe to a format readable by the spark dataframe for applying ALS method\n",
    "___"
   ]
  },
  {
   "cell_type": "code",
   "execution_count": 5,
   "metadata": {
    "ExecuteTime": {
     "end_time": "2017-03-27T19:05:51.334470Z",
     "start_time": "2017-03-27T21:05:42.190506+02:00"
    },
    "collapsed": true,
    "deletable": true,
    "editable": true
   },
   "outputs": [],
   "source": [
    "def expand_user(a):\n",
    "    return [Rating(user, product_to_ix[item], 1) for user in a.index for item in a[user]]\n",
    "ratings = expand_user(rawdata)"
   ]
  },
  {
   "cell_type": "code",
   "execution_count": 6,
   "metadata": {
    "ExecuteTime": {
     "end_time": "2017-03-27T19:05:53.471597Z",
     "start_time": "2017-03-27T21:05:51.335712+02:00"
    },
    "collapsed": true,
    "deletable": true,
    "editable": true
   },
   "outputs": [],
   "source": [
    "ratingsRDD = sc.parallelize(ratings)"
   ]
  },
  {
   "cell_type": "markdown",
   "metadata": {
    "deletable": true,
    "editable": true
   },
   "source": [
    "___\n",
    "In order to predict and improve the accuracy of my model, I randomly split the data into training and test.\n",
    "___"
   ]
  },
  {
   "cell_type": "code",
   "execution_count": 7,
   "metadata": {
    "ExecuteTime": {
     "end_time": "2017-03-27T19:06:04.080929Z",
     "start_time": "2017-03-27T21:06:04.077927+02:00"
    },
    "collapsed": false,
    "deletable": true,
    "editable": true
   },
   "outputs": [],
   "source": [
    "training_RDD, test_RDD = ratingsRDD.randomSplit([8, 2], seed=123)\n",
    "test_for_predict_RDD = test_RDD.map(lambda x: (x[0], x[1]))"
   ]
  },
  {
   "cell_type": "markdown",
   "metadata": {
    "deletable": true,
    "editable": true
   },
   "source": [
    "___\n",
    "Now, the data is ready for training and testing. \n",
    "\n",
    "___\n",
    "\n",
    "Things to note:\n",
    "    - It's hard to test recommender systems, unless you put it into production\n",
    "    - User's feedback from the recommended products is the best way to test, how well your recommender works\n",
    "___\n",
    "\n",
    "\n",
    "Tuning parameters:\n",
    "    - lambda or the regularization parameter\n",
    "        - This fights against overfitting of the model\n",
    "    - rank\n",
    "        - Number of latent factors\n",
    "        - Increasing rank will decrease RMSE\n",
    "        - Increasing rank is **computationally expensive**\n",
    "    - Number of iterations\n",
    "        - Tune this until RMSE stops decreasing. Best is somewhere between 5 and 20\n",
    "    - Alpha - confidence parameter\n",
    "        - Relevant with implicit data like the one we have\n",
    "        - Original paper suggests 40, spark default is 0.1.\n",
    "\n",
    "___\n",
    "\n",
    "**Note**: I am getting memory errors for higher ranks. So, for this working example, I am restricting the ranks to a maximum of 25\n",
    "___"
   ]
  },
  {
   "cell_type": "code",
   "execution_count": 9,
   "metadata": {
    "ExecuteTime": {
     "end_time": "2017-03-27T18:51:57.292628Z",
     "start_time": "2017-03-27T20:18:23.197204+02:00"
    },
    "collapsed": false,
    "deletable": true,
    "editable": true,
    "scrolled": true
   },
   "outputs": [
    {
     "name": "stdout",
     "output_type": "stream",
     "text": [
      "For lambda 0.01 and rank 3 the RMSE is 0.561399001661\n",
      "For lambda 0.03 and rank 3 the RMSE is 0.288752568934\n",
      "For lambda 0.05 and rank 3 the RMSE is 0.216985722377\n",
      "For lambda 0.07 and rank 3 the RMSE is 0.194333427767\n",
      "For lambda 0.09 and rank 3 the RMSE is 0.18901181331\n",
      "For lambda 0.11 and rank 3 the RMSE is 0.192734344792\n",
      "For lambda 0.13 and rank 3 the RMSE is 0.201245941937\n",
      "For lambda 0.15 and rank 3 the RMSE is 0.212475473862\n",
      "For lambda 0.17 and rank 3 the RMSE is 0.22573564362\n",
      "For lambda 0.19 and rank 3 the RMSE is 0.240504605629\n",
      "For lambda 0.01 and rank 5 the RMSE is 0.551075230103\n",
      "For lambda 0.03 and rank 5 the RMSE is 0.250500729443\n",
      "For lambda 0.05 and rank 5 the RMSE is 0.184466149679\n",
      "For lambda 0.07 and rank 5 the RMSE is 0.172463567727\n",
      "For lambda 0.09 and rank 5 the RMSE is 0.175188894463\n",
      "For lambda 0.11 and rank 5 the RMSE is 0.18363965509\n",
      "For lambda 0.13 and rank 5 the RMSE is 0.195089331643\n",
      "For lambda 0.15 and rank 5 the RMSE is 0.208422095848\n",
      "For lambda 0.17 and rank 5 the RMSE is 0.223080331657\n",
      "For lambda 0.19 and rank 5 the RMSE is 0.238738560241\n",
      "For lambda 0.01 and rank 7 the RMSE is 0.561816609573\n",
      "For lambda 0.03 and rank 7 the RMSE is 0.239864694869\n",
      "For lambda 0.05 and rank 7 the RMSE is 0.171373390022\n",
      "For lambda 0.07 and rank 7 the RMSE is 0.162327198925\n",
      "For lambda 0.09 and rank 7 the RMSE is 0.16714261096\n",
      "For lambda 0.11 and rank 7 the RMSE is 0.176990091505\n",
      "For lambda 0.13 and rank 7 the RMSE is 0.189436326902\n",
      "For lambda 0.15 and rank 7 the RMSE is 0.203505873599\n",
      "For lambda 0.17 and rank 7 the RMSE is 0.218718853139\n",
      "For lambda 0.19 and rank 7 the RMSE is 0.234800889765\n",
      "For lambda 0.01 and rank 9 the RMSE is 0.586214436069\n",
      "For lambda 0.03 and rank 9 the RMSE is 0.242476154837\n",
      "For lambda 0.05 and rank 9 the RMSE is 0.170564655614\n",
      "For lambda 0.07 and rank 9 the RMSE is 0.161569363552\n",
      "For lambda 0.09 and rank 9 the RMSE is 0.16665243772\n",
      "For lambda 0.11 and rank 9 the RMSE is 0.176767675801\n",
      "For lambda 0.13 and rank 9 the RMSE is 0.189429682518\n",
      "For lambda 0.15 and rank 9 the RMSE is 0.203661106627\n",
      "For lambda 0.17 and rank 9 the RMSE is 0.218991714184\n",
      "For lambda 0.19 and rank 9 the RMSE is 0.23515741831\n",
      "For lambda 0.01 and rank 11 the RMSE is 0.561454201226\n",
      "For lambda 0.03 and rank 11 the RMSE is 0.225265943023\n",
      "For lambda 0.05 and rank 11 the RMSE is 0.159418222588\n",
      "For lambda 0.07 and rank 11 the RMSE is 0.15371076101\n",
      "For lambda 0.09 and rank 11 the RMSE is 0.160165427677\n",
      "For lambda 0.11 and rank 11 the RMSE is 0.171012688655\n",
      "For lambda 0.13 and rank 11 the RMSE is 0.184166293774\n",
      "For lambda 0.15 and rank 11 the RMSE is 0.198752472553\n",
      "For lambda 0.17 and rank 11 the RMSE is 0.214331571418\n",
      "For lambda 0.19 and rank 11 the RMSE is 0.230658891733\n",
      "For lambda 0.01 and rank 13 the RMSE is 0.58593964145\n",
      "For lambda 0.03 and rank 13 the RMSE is 0.230044766185\n",
      "For lambda 0.05 and rank 13 the RMSE is 0.159983244297\n",
      "For lambda 0.07 and rank 13 the RMSE is 0.153647487177\n",
      "For lambda 0.09 and rank 13 the RMSE is 0.160102584847\n",
      "For lambda 0.11 and rank 13 the RMSE is 0.171073634867\n",
      "For lambda 0.13 and rank 13 the RMSE is 0.184360225977\n",
      "For lambda 0.15 and rank 13 the RMSE is 0.199069995056\n",
      "For lambda 0.17 and rank 13 the RMSE is 0.214764719215\n",
      "For lambda 0.19 and rank 13 the RMSE is 0.23120270678\n",
      "For lambda 0.01 and rank 15 the RMSE is 0.566561342241\n",
      "For lambda 0.03 and rank 15 the RMSE is 0.221958841132\n",
      "For lambda 0.05 and rank 15 the RMSE is 0.156420033504\n",
      "For lambda 0.07 and rank 15 the RMSE is 0.151552837943\n",
      "For lambda 0.09 and rank 15 the RMSE is 0.158412639395\n",
      "For lambda 0.11 and rank 15 the RMSE is 0.169517096969\n",
      "For lambda 0.13 and rank 15 the RMSE is 0.18287641082\n",
      "For lambda 0.15 and rank 15 the RMSE is 0.197635860555\n",
      "For lambda 0.17 and rank 15 the RMSE is 0.213357524654\n",
      "For lambda 0.19 and rank 15 the RMSE is 0.229798821399\n",
      "For lambda 0.01 and rank 17 the RMSE is 0.560512415674\n",
      "For lambda 0.03 and rank 17 the RMSE is 0.21708806635\n",
      "For lambda 0.05 and rank 17 the RMSE is 0.153716985809\n",
      "For lambda 0.07 and rank 17 the RMSE is 0.149434352372\n",
      "For lambda 0.09 and rank 17 the RMSE is 0.156563706509\n",
      "For lambda 0.11 and rank 17 the RMSE is 0.16786725551\n",
      "For lambda 0.13 and rank 17 the RMSE is 0.181397575738\n",
      "For lambda 0.15 and rank 17 the RMSE is 0.196311251415\n",
      "For lambda 0.17 and rank 17 the RMSE is 0.212173428003\n",
      "For lambda 0.19 and rank 17 the RMSE is 0.228740475643\n",
      "For lambda 0.01 and rank 19 the RMSE is 0.553110237724\n",
      "For lambda 0.03 and rank 19 the RMSE is 0.215068441063\n",
      "For lambda 0.05 and rank 19 the RMSE is 0.153685844052\n",
      "For lambda 0.07 and rank 19 the RMSE is 0.149642431499\n",
      "For lambda 0.09 and rank 19 the RMSE is 0.156782761382\n",
      "For lambda 0.11 and rank 19 the RMSE is 0.16805187551\n",
      "For lambda 0.13 and rank 19 the RMSE is 0.181553073809\n",
      "For lambda 0.15 and rank 19 the RMSE is 0.196443725854\n",
      "For lambda 0.17 and rank 19 the RMSE is 0.212278911717\n",
      "For lambda 0.19 and rank 19 the RMSE is 0.228811088653\n",
      "For lambda 0.01 and rank 21 the RMSE is 0.557945512733\n",
      "For lambda 0.03 and rank 21 the RMSE is 0.216393825853\n",
      "For lambda 0.05 and rank 21 the RMSE is 0.153584591862\n",
      "For lambda 0.07 and rank 21 the RMSE is 0.149576787223\n",
      "For lambda 0.09 and rank 21 the RMSE is 0.156771989706\n",
      "For lambda 0.11 and rank 21 the RMSE is 0.168093045441\n",
      "For lambda 0.13 and rank 21 the RMSE is 0.181638334211\n",
      "For lambda 0.15 and rank 21 the RMSE is 0.196557629039\n",
      "For lambda 0.17 and rank 21 the RMSE is 0.212407875873\n",
      "For lambda 0.19 and rank 21 the RMSE is 0.228947621403\n",
      "For lambda 0.01 and rank 23 the RMSE is 0.555842734281\n",
      "For lambda 0.03 and rank 23 the RMSE is 0.214916425595\n",
      "For lambda 0.05 and rank 23 the RMSE is 0.153484319177\n",
      "For lambda 0.07 and rank 23 the RMSE is 0.149664483628\n",
      "For lambda 0.09 and rank 23 the RMSE is 0.15691965133\n",
      "For lambda 0.11 and rank 23 the RMSE is 0.168246825917\n",
      "For lambda 0.13 and rank 23 the RMSE is 0.181775940869\n",
      "For lambda 0.15 and rank 23 the RMSE is 0.196678477244\n",
      "For lambda 0.17 and rank 23 the RMSE is 0.212517876574\n",
      "For lambda 0.19 and rank 23 the RMSE is 0.229051589229\n",
      "For lambda 0.01 and rank 25 the RMSE is 0.564210346149\n",
      "For lambda 0.03 and rank 25 the RMSE is 0.220896136041\n",
      "For lambda 0.05 and rank 25 the RMSE is 0.15552690567\n",
      "For lambda 0.07 and rank 25 the RMSE is 0.150958053258\n",
      "For lambda 0.09 and rank 25 the RMSE is 0.158037250112\n",
      "For lambda 0.11 and rank 25 the RMSE is 0.169366543187\n",
      "For lambda 0.13 and rank 25 the RMSE is 0.182946370547\n",
      "For lambda 0.15 and rank 25 the RMSE is 0.197899569576\n",
      "For lambda 0.17 and rank 25 the RMSE is 0.213784316733\n",
      "For lambda 0.19 and rank 25 the RMSE is 0.230364549516\n",
      "The best model was trained with lambda 0.07, rank 17 and RMSE: 0.149434352372\n"
     ]
    }
   ],
   "source": [
    "seed = 4242\n",
    "iterations = 10\n",
    "regularization_parameter =[i * 0.01 for i in range(1, 20, 2)]\n",
    "ranks = [3, 5, 7, 9, 11, 13, 15, 17, 19, 21, 23, 25]\n",
    "errors = [[0]*len(regularization_parameter)] * len(ranks)\n",
    "\n",
    "min_error = float('inf')\n",
    "best_lambda = -1\n",
    "best_lambda_index = -1\n",
    "best_model = None\n",
    "best_rank = -1\n",
    "best_rank_index = -1\n",
    "\n",
    "\n",
    "# Loop over all possible value fr lambda and rank to find the best parameters for our model that minimize the rmse\n",
    "for i, rank in enumerate(ranks):\n",
    "    for j, regParam in enumerate(regularization_parameter):\n",
    "        model = ALS.train(training_RDD, rank, seed=seed, iterations=iterations, lambda_=regParam)\n",
    "        predictions = model.predictAll(test_for_predict_RDD).map(lambda r: ((r[0], r[1]), r[2]))\n",
    "        rates_and_preds = test_RDD.map(lambda r: ((int(r[0]), int(r[1])), float(r[2]))).join(predictions)\n",
    "        error = np.sqrt(rates_and_preds.map(lambda r: (r[1][0] - r[1][1])**2).mean())\n",
    "        errors[i][j] = error\n",
    "        print('For lambda %s and rank %s the RMSE is %s' % (regParam, rank, error))\n",
    "        if error < min_error:\n",
    "            min_error = error\n",
    "            best_lambda = regParam\n",
    "            best_model = model\n",
    "            best_rank = rank\n",
    "            best_rank_index = i\n",
    "            best_lambda_index = j\n",
    "        with open('sparkLogging', 'a') as f:\n",
    "            f.write(\"RMSE on testing set: {}, with rank: {}, lambda: {}\\n\".format(error, rank, regParam))\n",
    "\n",
    "\n",
    "print('The best model was trained with lambda %s, rank %s and RMSE: %s' % (best_lambda, best_rank, min_error))\n",
    "\n",
    "with open('sparkLoggingBest', 'a') as f:\n",
    "    f.write(\"RMSE on testing set: {}, with rank: {} at index {}, lambda: {} at index {}\\n\".format(errors[best_rank_index][best_lambda_index], best_rank, best_lambda_index,  best_lambda, best_lambda_index))\n",
    "\n"
   ]
  },
  {
   "cell_type": "markdown",
   "metadata": {
    "ExecuteTime": {
     "end_time": "2017-03-27T15:27:42.659656Z",
     "start_time": "2017-03-27T17:27:42.655203+02:00"
    },
    "deletable": true,
    "editable": true
   },
   "source": [
    "___\n",
    "**Best model was trained with lambda 0.07 and rank 17 the RMSE is 0.149434352372**\n",
    "\n",
    "___\n",
    "\n",
    "Now, I tune the iterations. More than 25 iterations, I have memory error. \n",
    "___"
   ]
  },
  {
   "cell_type": "code",
   "execution_count": 11,
   "metadata": {
    "ExecuteTime": {
     "end_time": "2017-03-27T19:10:28.750343Z",
     "start_time": "2017-03-27T21:09:05.327819+02:00"
    },
    "collapsed": false,
    "deletable": true,
    "editable": true,
    "scrolled": true
   },
   "outputs": [
    {
     "name": "stdout",
     "output_type": "stream",
     "text": [
      "For 5 iterations, the RMSE is 0.33973580526\n",
      "For 10 iterations, the RMSE is 0.149434352372\n",
      "For 15 iterations, the RMSE is 0.135585874754\n",
      "For 20 iterations, the RMSE is 0.133802020976\n"
     ]
    }
   ],
   "source": [
    "seed = 4242\n",
    "iterations = [5, 10, 15, 20]\n",
    "regParam = 0.07\n",
    "rank = 17\n",
    "\n",
    "for iteration in iterations:\n",
    "    model = ALS.train(training_RDD, rank, seed=seed, iterations=iteration, lambda_=0.07)\n",
    "    predictions = model.predictAll(test_for_predict_RDD).map(lambda r: ((r[0], r[1]), r[2]))\n",
    "    rates_and_preds = test_RDD.map(lambda r: ((int(r[0]), int(r[1])), float(r[2]))).join(predictions)\n",
    "    error = np.sqrt(rates_and_preds.map(lambda r: (r[1][0] - r[1][1])**2).mean())\n",
    "    print('For %d iterations, the RMSE is %s' % (iteration, error))"
   ]
  },
  {
   "cell_type": "markdown",
   "metadata": {
    "ExecuteTime": {
     "end_time": "2017-03-27T19:13:07.002309Z",
     "start_time": "2017-03-27T21:13:07.000077+02:00"
    }
   },
   "source": [
    "___\n",
    "Now, I use the best fit parameters on my model to train\n",
    "___"
   ]
  },
  {
   "cell_type": "code",
   "execution_count": 13,
   "metadata": {
    "ExecuteTime": {
     "end_time": "2017-03-27T19:12:57.348568Z",
     "start_time": "2017-03-27T21:12:29.946435+02:00"
    },
    "collapsed": false
   },
   "outputs": [],
   "source": [
    "model = ALS.train(ratingsRDD, rank=17, seed=4242, iterations=20, lambda_=0.07)"
   ]
  },
  {
   "cell_type": "code",
   "execution_count": 33,
   "metadata": {
    "ExecuteTime": {
     "end_time": "2017-03-27T19:23:14.418660Z",
     "start_time": "2017-03-27T21:23:14.222284+02:00"
    },
    "collapsed": false,
    "deletable": true,
    "editable": true
   },
   "outputs": [
    {
     "name": "stdout",
     "output_type": "stream",
     "text": [
      "__________________________________________________\n",
      "\n",
      "For user 4 we recommend the following 5 products:\n",
      "\n",
      "           AC016EL50CPHALID-1749\n",
      "           AP082ELAD87SANID-176936\n",
      "           IL086ELABGL9ANID-74783\n",
      "           DR901TBAC245ANID-110616\n",
      "           SA848ELAD130ANID-165269\n",
      "__________________________________________________\n",
      "\n",
      "For user 1 we recommend the following 5 products:\n",
      "\n",
      "           AP082ELAD69IANID-173547\n",
      "           KE263SPABEIOANID-71986\n",
      "           NO749ELAD9EXANID-178702\n",
      "           AP082EL51ANKALID-348\n",
      "           DI747EL56RLNANID-50444\n",
      "__________________________________________________\n",
      "\n",
      "For user 12 we recommend the following 5 products:\n",
      "\n",
      "           AP082EL51ANKALID-348\n",
      "           NO749ELAD9EXANID-178702\n",
      "           KE263SPABEIOANID-71986\n",
      "           AP082ELAD69IANID-173547\n",
      "           AC016EL58BKFALID-941\n",
      "__________________________________________________\n",
      "\n",
      "For user 11 we recommend the following 5 products:\n",
      "\n",
      "           AC016EL58BKFALID-941\n",
      "           AD029EL42BKVALID-957\n",
      "           WI981EL52EFNALID-2847\n",
      "           NO749ELAD9EXANID-178702\n",
      "           AP082EL51ANKALID-348\n",
      "__________________________________________________\n",
      "\n",
      "For user 10 we recommend the following 5 products:\n",
      "\n",
      "           NO749ELAD9EXANID-178702\n",
      "           PE783EL91IKMANID-63112\n",
      "           KE263SPABEIOANID-71986\n",
      "           DI747EL56RLNANID-50444\n",
      "           GR087ME12IADANID-22985\n"
     ]
    }
   ],
   "source": [
    "### replace users with list(df.user_id.unique()) to get recommendation for all users\n",
    "users = [4, 1, 12, 11, 10]\n",
    "for user in users:\n",
    "    best_5_recommendations = model.recommendProducts(user, 5)\n",
    "    print(\"_\"*50)\n",
    "    print(\"\\nFor user %d we recommend the following 5 products:\\n\" %user)\n",
    "    for recommendation in best_5_recommendations:\n",
    "        print(\" \"*10, ix_to_product[recommendation.product])\n",
    "        "
   ]
  },
  {
   "cell_type": "code",
   "execution_count": null,
   "metadata": {
    "collapsed": true
   },
   "outputs": [],
   "source": []
  }
 ],
 "metadata": {
  "kernelspec": {
   "display_name": "Python 3",
   "language": "python",
   "name": "python3"
  },
  "language_info": {
   "codemirror_mode": {
    "name": "ipython",
    "version": 3
   },
   "file_extension": ".py",
   "mimetype": "text/x-python",
   "name": "python",
   "nbconvert_exporter": "python",
   "pygments_lexer": "ipython3",
   "version": "3.5.2"
  }
 },
 "nbformat": 4,
 "nbformat_minor": 2
}
